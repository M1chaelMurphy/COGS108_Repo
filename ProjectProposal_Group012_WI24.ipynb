{
 "cells": [
  {
   "cell_type": "markdown",
   "metadata": {},
   "source": [
    "# COGS 108 - Project Proposal"
   ]
  },
  {
   "cell_type": "markdown",
   "metadata": {},
   "source": [
    "# Names\n",
    "\n",
    "- Andrew Diaz\n",
    "- Peter Eckmann\n",
    "- Saman Khadivar\n",
    "- Michael Murphy\n",
    "- Shihua Yang"
   ]
  },
  {
   "cell_type": "markdown",
   "metadata": {},
   "source": [
    "# Research Question"
   ]
  },
  {
   "cell_type": "markdown",
   "metadata": {},
   "source": [
    "Did the opening of the Blue Line trolley impact the average housing cost of the houses along its route?\n"
   ]
  },
  {
   "cell_type": "markdown",
   "metadata": {},
   "source": [
    "## Background and Prior Work"
   ]
  },
  {
   "cell_type": "markdown",
   "metadata": {},
   "source": [
    "\"Housing near transit is in high demand, and rents and property values near transit are 10 to 20 percent higher on average than similar homes further from transit.\" <a name=\"cite_ref1\"></a>[<sup>1</sup>](#ref1)\n",
    "\n",
    "\"The results suggest that transit-rich neighborhoods are more affordable than auto-oriented ones, mainly due to lower transportation costs.\" <a name=\"cite_ref2\"></a>[<sup>2</sup>](#ref2)\n",
    "\n",
    "\"Public transit can increase the development potential of real estate near high-capacity transit lines and stations, and thereby increase property values. This “transit premium” can range from as little as a few percent increase to over 150 percent.\" <a name=\"cite_ref3\"></a>[<sup>3</sup>](#ref3)\n",
    "\n",
    "\"New or planned public transit projects drive up nearby property values and rents, according to Realtor.com. In some U.S. cities, single-family homes near transit stops can cost 2% to 32% more than their counterparts, while condos can cost 2% to 18% more.\" <a name=\"cite_ref4\"></a>[<sup>4</sup>](#ref4)\n",
    "\n",
    "\"The empirical results showed that most of the public transport characteristics produce significant premium capacity to the housing market.\" <a name=\"cite_ref5\"></a>[<sup>5</sup>](#ref5)\n",
    "\n",
    "1. <a name=\"ref1\"></a> [^](#cite_ref1) https://www.hcd.ca.gov/policy-and-research/intersectional-policy-work/housing-and-transportation\n",
    "2. <a name=\"ref2\"></a> [^](#cite_ref2) https://www.sciencedirect.com/science/article/pii/S0264275121001955?via%3Dihub\n",
    "3. <a name=\"ref3\"></a> [^](#cite_ref3) https://www.nar.realtor/articles/public-transportation-boosts-property-values\n",
    "4. <a name=\"ref4\"></a> [^](#cite_ref4) https://www.constructiondive.com/news/how-proximity-to-public-transit-affects-home-values/446533/\n",
    "5. <a name=\"ref5\"></a> [^](#cite_ref4) https://iopscience.iop.org/article/10.1088/1742-6596/1616/1/012028/pdf"
   ]
  },
  {
   "cell_type": "markdown",
   "metadata": {},
   "source": [
    "# Hypothesis\n"
   ]
  },
  {
   "cell_type": "markdown",
   "metadata": {},
   "source": [
    "\n",
    "- Include your team's hypothesis\n",
    "- Ensure that this hypothesis is clear to readers\n",
    "- Explain why you think this will be the outcome (what was your thinking?)\n",
    "\n",
    "What is your main hypothesis/predictions about what the answer to your question is? Briefly explain your thinking. (2-3 sentences)\n"
   ]
  },
  {
   "cell_type": "markdown",
   "metadata": {},
   "source": [
    "# Data"
   ]
  },
  {
   "cell_type": "markdown",
   "metadata": {},
   "source": [
    "1. Explain what the **ideal** dataset you would want to answer this question. (This should include: What variables? How many observations? Who/what/how would these data be collected? How would these data be stored/organized?)\n",
    "Answer:\n",
    "\n",
    "\n",
    "1. Search for potential **real** datasets that could provide you with something useful for this project.  You do not have to find every piece of data you will use, but you do need to have demonstrated some idea that (a) this data is gettable and (b) that this data may be different from what your ideal is."
   ]
  },
  {
   "cell_type": "markdown",
   "metadata": {},
   "source": [
    "# Ethics & Privacy"
   ]
  },
  {
   "cell_type": "markdown",
   "metadata": {},
   "source": [
    "- Thoughtful discussion of ethical concerns included\n",
    "- Ethical concerns consider the whole data science process (question asked, data collected, data being used, the bias in data, analysis, post-analysis, etc.)\n",
    "- How your group handled bias/ethical concerns clearly described\n",
    "\n",
    "Acknowledge and address any ethics & privacy related issues of your question(s), proposed dataset(s), and/or analyses. Use the information provided in lecture to guide your group discussion and thinking. If you need further guidance, check out [Deon's Ethics Checklist](http://deon.drivendata.org/#data-science-ethics-checklist). In particular:\n",
    "\n",
    "- Are there any biases/privacy/terms of use issues with the data you propsed?\n",
    "- Are there potential biases in your dataset(s), in terms of who it composes, and how it was collected, that may be problematic in terms of it allowing for equitable analysis? (For example, does your data exclude particular populations, or is it likely to reflect particular human biases in a way that could be a problem?)\n",
    "- How will you set out to detect these specific biases before, during, and after/when communicating your analysis?\n",
    "- Are there any other issues related to your topic area, data, and/or analyses that are potentially problematic in terms of data privacy and equitable impact?\n",
    "- How will you handle issues you identified?"
   ]
  },
  {
   "cell_type": "markdown",
   "metadata": {},
   "source": [
    "# Team Expectations "
   ]
  },
  {
   "cell_type": "markdown",
   "metadata": {},
   "source": [
    "\n",
    "Read over the [COGS108 Team Policies](https://github.com/COGS108/Projects/blob/master/COGS108_TeamPolicies.md) individually. Then, include your group’s expectations of one another for successful completion of your COGS108 project below. Discuss and agree on what all of your expectations are. Discuss how your team will communicate throughout the quarter and consider how you will communicate respectfully should conflicts arise. By including each member’s name above and by adding their name to the submission, you are indicating that you have read the COGS108 Team Policies, accept your team’s expectations below, and have every intention to fulfill them. These expectations are for your team’s use and benefit — they won’t be graded for their details.\n",
    "\n",
    "* Please keep in contact with one another and try to stay updated on the project as much as possible. This will be done by text and by group announcements on Canvas. \n",
    "* If something that may impede on our group projects comes up (or will come up), please let all of the members know about this so that we may plan accordingly.\n",
    "* Please do your assigned tasks and be willing to help others and ask for help. \n",
    "* ..."
   ]
  },
  {
   "cell_type": "markdown",
   "metadata": {},
   "source": [
    "# Project Timeline Proposal"
   ]
  },
  {
   "cell_type": "markdown",
   "metadata": {},
   "source": [
    "Specify your team's specific project timeline. An example timeline has been provided. Changes the dates, times, names, and details to fit your group's plan.\n",
    "\n",
    "If you think you will need any special resources or training outside what we have covered in COGS 108 to solve your problem, then your proposal should state these clearly. For example, if you have selected a problem that involves implementing multiple neural networks, please state this so we can make sure you know what you’re doing and so we can point you to resources you will need to implement your project. Note that you are not required to use outside methods.\n",
    "\n",
    "\n",
    "\n",
    "| Meeting Date  | Meeting Time | Completed Before Meeting | Discuss at Meeting |\n",
    "|---|---|---|---|\n",
    "| 1/20  |  1 PM | Read & Think about COGS 108 expectations; brainstorm topics/questions | Determine best form of communication; Discuss and decide on final project topic; discuss hypothesis; begin background research | \n",
    "| 1/26  |  10 AM | Do background research on topic | Discuss ideal dataset(s) and ethics; draft project proposal | \n",
    "| 2/1   | 7 PM  | Zoom meeting to look over and review Previous Project reviews  | Discuss Wrangling and possible analytical approaches; Assign group members to lead each specific part  | Brainstorm what exactly our project will be about |\n",
    "| 2/8   | 2 PM  | Import & Wrangle Data (Ant Man); EDA (Hulk) | Review/Edit wrangling/EDA; Discuss Analysis Plan   |\n",
    "| 2/11  | 6 PM  | Hopefully turned in the Project Proposal by then | If not turned in, discuss about and complete the Project Proposal and what's to come |  \n",
    "| 2/23  | 12 PM  | Finalize wrangling/EDA; Begin Analysis (Iron Man; Thor) | Discuss/edit Analysis; Complete project check-in |\n",
    "| 3/13  | 12 PM  | Complete analysis; Draft results/conclusion/discussion (Wasp)| Discuss/edit full project |\n",
    "| 3/20  | Before 11:59 PM  | NA | Turn in Final Project & Group Project Surveys |"
   ]
  }
 ],
 "metadata": {
  "kernelspec": {
   "display_name": "Python 3 (ipykernel)",
   "language": "python",
   "name": "python3"
  },
  "language_info": {
   "codemirror_mode": {
    "name": "ipython",
    "version": 3
   },
   "file_extension": ".py",
   "mimetype": "text/x-python",
   "name": "python",
   "nbconvert_exporter": "python",
   "pygments_lexer": "ipython3",
   "version": "3.9.7"
  }
 },
 "nbformat": 4,
 "nbformat_minor": 2
}
